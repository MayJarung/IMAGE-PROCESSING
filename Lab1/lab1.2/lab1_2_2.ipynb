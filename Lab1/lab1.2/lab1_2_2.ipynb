{
 "cells": [
  {
   "cell_type": "code",
   "execution_count": 1,
   "metadata": {},
   "outputs": [],
   "source": [
    "import cv2\n",
    "import numpy as np\n",
    "import matplotlib.pyplot as plt\n",
    "import glob\n",
    "%matplotlib inline\n",
    "\n",
    "#Lab1.2.2\n",
    "catAngry = cv2.imread('cat1.jpg')\n",
    "cat = cv2.imread('cat2.jpg')\n",
    "angryCat = cv2.resize(catAngry,(600,600))\n",
    "memeCat = cv2.resize(cat,(600,600))\n",
    "img_array = []\n",
    "for i in range(1,21):\n",
    "    newImg = cv2.addWeighted(angryCat,0.05*i,memeCat,1-(i*(0.05)),0)\n",
    "    img_array.append(newImg)\n",
    "    \n",
    "output = cv2.VideoWriter('lab1_2_2.mp4',cv2.VideoWriter_fourcc(*'MP4V'),5, (600,600))\n",
    "for i in range(len(img_array)):\n",
    "    output.write(img_array[i])\n",
    "output.release()"
   ]
  }
 ],
 "metadata": {
  "kernelspec": {
   "display_name": "Python 3",
   "language": "python",
   "name": "python3"
  },
  "language_info": {
   "codemirror_mode": {
    "name": "ipython",
    "version": 3
   },
   "file_extension": ".py",
   "mimetype": "text/x-python",
   "name": "python",
   "nbconvert_exporter": "python",
   "pygments_lexer": "ipython3",
   "version": "3.10.5"
  },
  "orig_nbformat": 4
 },
 "nbformat": 4,
 "nbformat_minor": 2
}
