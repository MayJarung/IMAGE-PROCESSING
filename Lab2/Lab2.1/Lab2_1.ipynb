{
 "cells": [
  {
   "cell_type": "code",
   "execution_count": 1,
   "metadata": {},
   "outputs": [],
   "source": [
    "import cv2\n",
    "import numpy as np\n",
    "from matplotlib import pyplot as plt    "
   ]
  },
  {
   "cell_type": "code",
   "execution_count": 2,
   "metadata": {},
   "outputs": [],
   "source": [
    "#2.1.1\n",
    "\n",
    "img = cv2.imread('img1.jpg') \n",
    "img = cv2.resize(img,(1920,1080))\n",
    "img_array = [img]\n",
    "for i in range(1,21):\n",
    "    newImg = (0.5+(i/2))*img + 5*(i/2)\n",
    "    newImg = np.clip(newImg, 0, 255)\n",
    "    # Convert back to uint8 format for display\n",
    "    newImg = newImg.astype(np.uint8)\n",
    "    img_array.append(newImg)\n",
    "    \n",
    "output = cv2.VideoWriter('lab2_1_1.mp4',cv2.VideoWriter_fourcc(*'MP4V'),5,(1920,1080))\n",
    "for i in range(len(img_array)):\n",
    "    output.write(img_array[i])\n",
    "output.release()"
   ]
  },
  {
   "cell_type": "code",
   "execution_count": 3,
   "metadata": {},
   "outputs": [],
   "source": [
    "#2.1.1\n",
    "\n",
    "\"\"\"\n",
    "    gamma_equation() : function สำหรับ เพิ่ม/ลด ความสว่างของภาพด้วยค่าแกมม่า\n",
    "    quantization_8bit() : เอาไว้ quantize ค่ากลับเพราะตอนยกกำลังค่าจะเกิน 255\n",
    "\"\"\"\n",
    "def gamma_equation(image,a, b, gamma):\n",
    "    image = image.astype(np.float64)\n",
    "    image = a*pow(image, gamma) + b\n",
    "    return image.astype(np.int32)\n",
    "\n",
    "def quantization_8bit(image):\n",
    "    image.astype(np.float64)\n",
    "    max = np.max(image)\n",
    "    min = np.min(image)\n",
    "    image = (image - min) / (max - min) * 255\n",
    "    return image.astype(np.uint8)\n",
    " \n",
    "img_gamma = []\n",
    "img = cv2.imread('cat1.jpg')\n",
    "img = cv2.resize(img,(600,600))\n",
    "\n",
    "for i in range(1, 21):\n",
    "    img_gamma.append(quantization_8bit(gamma_equation(img,1, 0, i*0.1)))\n",
    "    \n",
    "output = cv2.VideoWriter('lab2_1_2.mp4',cv2.VideoWriter_fourcc(*'MP4V'),5,(600,600))\n",
    "for i in range(len(img_gamma)):\n",
    "    output.write(img_gamma[i])\n",
    "output.release()\n"
   ]
  }
 ],
 "metadata": {
  "kernelspec": {
   "display_name": "Python 3",
   "language": "python",
   "name": "python3"
  },
  "language_info": {
   "codemirror_mode": {
    "name": "ipython",
    "version": 3
   },
   "file_extension": ".py",
   "mimetype": "text/x-python",
   "name": "python",
   "nbconvert_exporter": "python",
   "pygments_lexer": "ipython3",
   "version": "3.11.6"
  },
  "orig_nbformat": 4
 },
 "nbformat": 4,
 "nbformat_minor": 2
}
